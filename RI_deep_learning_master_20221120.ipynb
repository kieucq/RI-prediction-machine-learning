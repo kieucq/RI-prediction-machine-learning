{
 "cells": [
  {
   "cell_type": "code",
   "execution_count": 1,
   "id": "311c26f1",
   "metadata": {},
   "outputs": [],
   "source": [
    "import pandas as pd\n",
    "import math\n",
    "import numpy as np\n",
    "from sklearn.metrics import f1_score\n",
    "from sklearn.metrics import confusion_matrix, classification_report\n",
    "from sklearn import preprocessing, svm, neighbors\n",
    "from sklearn.model_selection import train_test_split\n",
    "import matplotlib.pyplot as plt\n"
   ]
  },
  {
   "cell_type": "code",
   "execution_count": 54,
   "id": "ebe18bc0",
   "metadata": {},
   "outputs": [
    {
     "name": "stdout",
     "output_type": "stream",
     "text": [
      "    lat    lon  MaxWind  RMW  MIN_SLP  SHR_MAG  SHR_HDG  STM_SPD  STM_HDG  \\\n",
      "0  11.4  306.5       45   60     1006        5      324       12      275   \n",
      "1  11.6  305.3       44   72     1003        5      350       15      270   \n",
      "2  11.8  304.2       50   62     1002        4      323       13      279   \n",
      "3  12.1  302.9       52  139     1002        4      268       11      290   \n",
      "4  12.5  301.7       50   25     1002        6      243        9      283   \n",
      "5  13.3  299.8       42   57     1006        3        8       13      293   \n",
      "6  15.0  298.1       45   76     1005        3      320       14      296   \n",
      "7  15.8  297.3       38   36     1005        7        2       13      288   \n",
      "8  16.4  296.6       50  154     1004        7       31       12      310   \n",
      "9  17.1  296.0       52   90     1002        6       76       14      314   \n",
      "\n",
      "   SST   OHC  TPW  LAND  850TANG  850VORT  200DVRG  class  \n",
      "0  278  9999   47   636       72       28      -18      0  \n",
      "1  280  9999   47   617       71        9      -13      0  \n",
      "2  280  9999   46   558       76        5       15      0  \n",
      "3  282  9999   47   449       82       14        5      0  \n",
      "4  282  9999   48   349       90       12       10      0  \n",
      "5  284  9999   48   291       79        5       28      0  \n",
      "6  286  9999   49   476       81        0       -1      0  \n",
      "7  287  9999   49   419       60        7       10      0  \n",
      "8  286  9999   48   319       66       -8       26      0  \n",
      "9  286  9999   49   224       75        0       16      0  \n",
      "[  11.4  306.5   45.    60.  1006.     5.   324.    12.   275.   278.\n",
      "   47.    72.    28.   -18. ] 0.0\n"
     ]
    }
   ],
   "source": [
    "df = pd.read_csv('MajorAtlHurricaneMaster2016-2019.csv')\n",
    "print(df.head(10))\n",
    "df.replace('?',-99999, inplace=True)\n",
    "df.drop(['OHC','LAND'], axis=1, inplace=True)\n",
    "x = np.array(df.drop(['class'],axis=1)).astype(\"float32\")\n",
    "y = np.array(df['class']).astype(\"float32\")\n",
    "print(x[0],y[0])"
   ]
  },
  {
   "cell_type": "code",
   "execution_count": 55,
   "id": "69157de8",
   "metadata": {},
   "outputs": [
    {
     "name": "stdout",
     "output_type": "stream",
     "text": [
      "[0. 0. 0. 0. 0. 0. 0. 0. 0. 0. 0. 0. 0. 0. 1. 1. 1. 1. 0. 1. 0. 0. 0. 0.\n",
      " 0. 0. 0. 0. 0. 0. 0. 0. 0. 0. 0. 0. 0. 0. 0. 1. 1. 0. 0. 1. 1. 0. 0. 0.\n",
      " 0. 0.]\n",
      "[0. 0. 0. 0. 0. 0. 1. 0. 0. 0. 0. 0. 0. 0. 0. 0. 0. 0. 0. 0. 0. 0. 0. 0.\n",
      " 0. 0. 0. 0. 1. 0. 0. 0. 0. 1. 0. 0. 0. 0. 0. 1. 0. 0. 0. 0. 0. 0. 0. 0.\n",
      " 0. 0.]\n",
      "0.7783505154639175\n"
     ]
    }
   ],
   "source": [
    "import copy\n",
    "random_label_copy = copy.copy(y)\n",
    "print(random_label_copy[0:50])\n",
    "np.random.shuffle(random_label_copy)\n",
    "print(random_label_copy[0:50])\n",
    "hits_array = np.array(y) == np.array(random_label_copy)\n",
    "#print(hits_array)\n",
    "print(hits_array.mean())"
   ]
  },
  {
   "cell_type": "code",
   "execution_count": 4,
   "id": "3c10e481",
   "metadata": {
    "collapsed": true
   },
   "outputs": [
    {
     "name": "stderr",
     "output_type": "stream",
     "text": [
      "2022-11-20 10:30:25.453605: I tensorflow/core/platform/cpu_feature_guard.cc:193] This TensorFlow binary is optimized with oneAPI Deep Neural Network Library (oneDNN) to use the following CPU instructions in performance-critical operations:  SSE4.1 SSE4.2 AVX AVX2 FMA\n",
      "To enable them in other operations, rebuild TensorFlow with the appropriate compiler flags.\n"
     ]
    }
   ],
   "source": [
    "from tensorflow import keras\n",
    "from tensorflow.keras import layers"
   ]
  },
  {
   "cell_type": "code",
   "execution_count": 56,
   "id": "3106e5fc",
   "metadata": {},
   "outputs": [
    {
     "name": "stdout",
     "output_type": "stream",
     "text": [
      "(310, 14) (78, 14) (310,) (78,)\n",
      "(267, 14) (43, 14) (267,) (43,)\n",
      "Epoch 1/50\n"
     ]
    },
    {
     "name": "stderr",
     "output_type": "stream",
     "text": [
      "/tmp/ipykernel_12604/4078918124.py:3: DeprecationWarning: `np.int` is a deprecated alias for the builtin `int`. To silence this warning, use `int` by itself. Doing this will not modify any behavior and is safe. When replacing `np.int`, you may wish to use e.g. `np.int64` or `np.int32` to specify the precision. If you wish to review your current use, check the release note link for additional information.\n",
      "Deprecated in NumPy 1.20; for more details and guidance: https://numpy.org/devdocs/release/1.20.0-notes.html#deprecations\n",
      "  validation_split = np.int(0.14*len(x1_train))\n"
     ]
    },
    {
     "name": "stdout",
     "output_type": "stream",
     "text": [
      "17/17 [==============================] - 1s 10ms/step - loss: 77.4310 - accuracy: 0.8764 - val_loss: 89.9086 - val_accuracy: 0.8140\n",
      "Epoch 2/50\n",
      "17/17 [==============================] - 0s 2ms/step - loss: 49.4479 - accuracy: 0.8764 - val_loss: 54.1594 - val_accuracy: 0.8140\n",
      "Epoch 3/50\n",
      "17/17 [==============================] - 0s 2ms/step - loss: 28.3137 - accuracy: 0.8727 - val_loss: 25.8224 - val_accuracy: 0.7907\n",
      "Epoch 4/50\n",
      "17/17 [==============================] - 0s 2ms/step - loss: 15.2236 - accuracy: 0.7940 - val_loss: 17.5462 - val_accuracy: 0.7674\n",
      "Epoch 5/50\n",
      "17/17 [==============================] - 0s 2ms/step - loss: 12.1530 - accuracy: 0.7715 - val_loss: 13.8093 - val_accuracy: 0.7442\n",
      "Epoch 6/50\n",
      "17/17 [==============================] - 0s 2ms/step - loss: 10.3382 - accuracy: 0.7566 - val_loss: 15.5897 - val_accuracy: 0.8140\n",
      "Epoch 7/50\n",
      "17/17 [==============================] - 0s 2ms/step - loss: 8.4906 - accuracy: 0.7940 - val_loss: 10.1282 - val_accuracy: 0.8140\n",
      "Epoch 8/50\n",
      "17/17 [==============================] - 0s 2ms/step - loss: 6.8763 - accuracy: 0.7715 - val_loss: 7.4609 - val_accuracy: 0.7674\n",
      "Epoch 9/50\n",
      "17/17 [==============================] - 0s 2ms/step - loss: 5.5232 - accuracy: 0.7753 - val_loss: 6.0552 - val_accuracy: 0.5581\n",
      "Epoch 10/50\n",
      "17/17 [==============================] - 0s 2ms/step - loss: 4.1450 - accuracy: 0.7753 - val_loss: 6.2700 - val_accuracy: 0.8140\n",
      "Epoch 11/50\n",
      "17/17 [==============================] - 0s 2ms/step - loss: 3.1644 - accuracy: 0.7828 - val_loss: 3.0493 - val_accuracy: 0.6744\n",
      "Epoch 12/50\n",
      "17/17 [==============================] - 0s 2ms/step - loss: 2.6356 - accuracy: 0.7865 - val_loss: 2.8422 - val_accuracy: 0.8140\n",
      "Epoch 13/50\n",
      "17/17 [==============================] - 0s 2ms/step - loss: 2.5637 - accuracy: 0.7715 - val_loss: 2.6010 - val_accuracy: 0.8140\n",
      "Epoch 14/50\n",
      "17/17 [==============================] - 0s 2ms/step - loss: 1.9501 - accuracy: 0.7828 - val_loss: 1.4118 - val_accuracy: 0.7674\n",
      "Epoch 15/50\n",
      "17/17 [==============================] - 0s 2ms/step - loss: 1.5394 - accuracy: 0.8015 - val_loss: 0.9082 - val_accuracy: 0.6744\n",
      "Epoch 16/50\n",
      "17/17 [==============================] - 0s 2ms/step - loss: 1.7772 - accuracy: 0.7640 - val_loss: 4.1611 - val_accuracy: 0.8140\n",
      "Epoch 17/50\n",
      "17/17 [==============================] - 0s 2ms/step - loss: 1.4542 - accuracy: 0.8202 - val_loss: 2.1274 - val_accuracy: 0.4651\n",
      "Epoch 18/50\n",
      "17/17 [==============================] - 0s 2ms/step - loss: 1.3114 - accuracy: 0.8165 - val_loss: 0.8816 - val_accuracy: 0.6744\n",
      "Epoch 19/50\n",
      "17/17 [==============================] - 0s 2ms/step - loss: 1.6477 - accuracy: 0.8127 - val_loss: 1.1675 - val_accuracy: 0.8140\n",
      "Epoch 20/50\n",
      "17/17 [==============================] - 0s 2ms/step - loss: 1.9211 - accuracy: 0.7828 - val_loss: 0.6134 - val_accuracy: 0.7907\n",
      "Epoch 21/50\n",
      "17/17 [==============================] - 0s 2ms/step - loss: 1.3816 - accuracy: 0.8090 - val_loss: 1.1289 - val_accuracy: 0.8140\n",
      "Epoch 22/50\n",
      "17/17 [==============================] - 0s 2ms/step - loss: 1.2052 - accuracy: 0.8127 - val_loss: 2.8142 - val_accuracy: 0.8140\n",
      "Epoch 23/50\n",
      "17/17 [==============================] - 0s 2ms/step - loss: 1.2026 - accuracy: 0.8240 - val_loss: 1.1434 - val_accuracy: 0.5581\n",
      "Epoch 24/50\n",
      "17/17 [==============================] - 0s 2ms/step - loss: 1.7081 - accuracy: 0.7940 - val_loss: 1.3751 - val_accuracy: 0.8140\n",
      "Epoch 25/50\n",
      "17/17 [==============================] - 0s 2ms/step - loss: 1.3659 - accuracy: 0.7978 - val_loss: 0.6387 - val_accuracy: 0.7442\n",
      "Epoch 26/50\n",
      "17/17 [==============================] - 0s 2ms/step - loss: 1.5461 - accuracy: 0.7940 - val_loss: 3.0733 - val_accuracy: 0.8140\n",
      "Epoch 27/50\n",
      "17/17 [==============================] - 0s 2ms/step - loss: 1.1154 - accuracy: 0.8202 - val_loss: 3.4342 - val_accuracy: 0.8140\n",
      "Epoch 28/50\n",
      "17/17 [==============================] - 0s 2ms/step - loss: 1.6202 - accuracy: 0.7978 - val_loss: 3.2590 - val_accuracy: 0.8140\n",
      "Epoch 29/50\n",
      "17/17 [==============================] - 0s 2ms/step - loss: 1.0977 - accuracy: 0.8464 - val_loss: 0.6520 - val_accuracy: 0.8372\n",
      "Epoch 30/50\n",
      "17/17 [==============================] - 0s 2ms/step - loss: 1.6424 - accuracy: 0.7940 - val_loss: 1.0127 - val_accuracy: 0.8140\n",
      "Epoch 31/50\n",
      "17/17 [==============================] - 0s 2ms/step - loss: 1.3027 - accuracy: 0.8052 - val_loss: 0.8828 - val_accuracy: 0.8140\n",
      "Epoch 32/50\n",
      "17/17 [==============================] - 0s 2ms/step - loss: 1.0085 - accuracy: 0.8202 - val_loss: 6.8865 - val_accuracy: 0.2326\n",
      "Epoch 33/50\n",
      "17/17 [==============================] - 0s 2ms/step - loss: 1.7199 - accuracy: 0.7790 - val_loss: 0.8735 - val_accuracy: 0.6512\n",
      "Epoch 34/50\n",
      "17/17 [==============================] - 0s 2ms/step - loss: 1.4142 - accuracy: 0.7903 - val_loss: 0.4179 - val_accuracy: 0.9070\n",
      "Epoch 35/50\n",
      "17/17 [==============================] - 0s 2ms/step - loss: 1.3856 - accuracy: 0.8090 - val_loss: 0.9585 - val_accuracy: 0.8140\n",
      "Epoch 36/50\n",
      "17/17 [==============================] - 0s 2ms/step - loss: 0.9658 - accuracy: 0.8202 - val_loss: 0.4857 - val_accuracy: 0.8605\n",
      "Epoch 37/50\n",
      "17/17 [==============================] - 0s 2ms/step - loss: 1.4414 - accuracy: 0.8052 - val_loss: 2.1896 - val_accuracy: 0.8140\n",
      "Epoch 38/50\n",
      "17/17 [==============================] - 0s 2ms/step - loss: 1.2806 - accuracy: 0.8202 - val_loss: 1.6731 - val_accuracy: 0.8140\n",
      "Epoch 39/50\n",
      "17/17 [==============================] - 0s 2ms/step - loss: 1.4748 - accuracy: 0.8165 - val_loss: 1.2274 - val_accuracy: 0.8140\n",
      "Epoch 40/50\n",
      "17/17 [==============================] - 0s 2ms/step - loss: 0.9887 - accuracy: 0.8090 - val_loss: 3.9662 - val_accuracy: 0.8140\n",
      "Epoch 41/50\n",
      "17/17 [==============================] - 0s 2ms/step - loss: 1.2890 - accuracy: 0.8240 - val_loss: 0.4885 - val_accuracy: 0.8605\n",
      "Epoch 42/50\n",
      "17/17 [==============================] - 0s 2ms/step - loss: 1.0824 - accuracy: 0.8277 - val_loss: 2.9484 - val_accuracy: 0.8140\n",
      "Epoch 43/50\n",
      "17/17 [==============================] - 0s 2ms/step - loss: 1.1365 - accuracy: 0.8539 - val_loss: 1.5319 - val_accuracy: 0.8140\n",
      "Epoch 44/50\n",
      "17/17 [==============================] - 0s 2ms/step - loss: 1.4680 - accuracy: 0.8127 - val_loss: 0.4776 - val_accuracy: 0.7209\n",
      "Epoch 45/50\n",
      "17/17 [==============================] - 0s 2ms/step - loss: 1.4207 - accuracy: 0.7865 - val_loss: 0.3277 - val_accuracy: 0.9302\n",
      "Epoch 46/50\n",
      "17/17 [==============================] - 0s 2ms/step - loss: 1.0181 - accuracy: 0.8277 - val_loss: 2.5921 - val_accuracy: 0.8140\n",
      "Epoch 47/50\n",
      "17/17 [==============================] - 0s 2ms/step - loss: 1.3977 - accuracy: 0.8127 - val_loss: 0.9401 - val_accuracy: 0.8140\n",
      "Epoch 48/50\n",
      "17/17 [==============================] - 0s 2ms/step - loss: 1.2679 - accuracy: 0.7978 - val_loss: 2.6831 - val_accuracy: 0.8140\n",
      "Epoch 49/50\n",
      "17/17 [==============================] - 0s 2ms/step - loss: 1.1449 - accuracy: 0.8315 - val_loss: 2.3376 - val_accuracy: 0.5349\n",
      "Epoch 50/50\n",
      "17/17 [==============================] - 0s 2ms/step - loss: 1.0825 - accuracy: 0.8240 - val_loss: 1.4479 - val_accuracy: 0.8140\n"
     ]
    }
   ],
   "source": [
    "x1_train, x1_test, y1_train, y1_test = train_test_split(x, y, test_size=0.2)\n",
    "print(x1_train.shape,x1_test.shape,y1_train.shape,y1_test.shape)\n",
    "validation_split = np.int(0.14*len(x1_train))\n",
    "#print(\"validation split gives\",validation_split)\n",
    "x2_val = x1_train[:validation_split]\n",
    "y2_val = y1_train[:validation_split]\n",
    "x2_train = x1_train[validation_split:]\n",
    "y2_train = y1_train[validation_split:]\n",
    "#print(y2_train)\n",
    "print(x2_train.shape,x2_val.shape,y2_train.shape,y2_val.shape)\n",
    "\n",
    "model = keras.Sequential([\n",
    "    layers.Dense(32, activation = \"relu\"),\n",
    "    layers.Dense(1, activation = \"sigmoid\")])\n",
    "\n",
    "model.compile(optimizer=\"rmsprop\",loss=\"binary_crossentropy\",metrics=[\"accuracy\"])\n",
    "\n",
    "history = model.fit(x2_train,y2_train,epochs=50,batch_size=16,validation_data=(x2_val,y2_val))"
   ]
  },
  {
   "cell_type": "code",
   "execution_count": 50,
   "id": "68f5fc90",
   "metadata": {},
   "outputs": [
    {
     "data": {
      "image/png": "[encoded data removed]",
      "text/plain": [
       "<Figure size 432x288 with 1 Axes>"
      ]
     },
     "metadata": {
      "needs_background": "light"
     },
     "output_type": "display_data"
    },
    {
     "data": {
      "image/png": "[encoded data removed]",
      "text/plain": [
       "<Figure size 432x288 with 1 Axes>"
      ]
     },
     "metadata": {
      "needs_background": "light"
     },
     "output_type": "display_data"
    }
   ],
   "source": [
    "import matplotlib.pyplot as plt\n",
    "#print(history.__dict__)\n",
    "epochs = history.epoch\n",
    "val_loss = history.history['val_loss']\n",
    "loss = history.history['loss']\n",
    "#print(loss)\n",
    "plt.plot(epochs,val_loss,'r+',label=\"Validation loss\")\n",
    "plt.xlabel(\"epochs\")\n",
    "plt.ylabel(\"value\")\n",
    "plt.title(\"Loss history\")\n",
    "plt.plot(epochs,loss,'b',label=\"Training loss\")\n",
    "plt.legend()\n",
    "plt.show()\n",
    "\n",
    "plt.clf()\n",
    "val_accuracy = history.history['val_accuracy']\n",
    "accuracy = history.history['accuracy']\n",
    "#print(loss)\n",
    "plt.plot(epochs,val_accuracy,'r+',label=\"Validation accuracy\")\n",
    "plt.xlabel(\"epochs\")\n",
    "plt.ylabel(\"value\")\n",
    "plt.title(\"Accuracy history\")\n",
    "plt.plot(epochs,accuracy,'b',label=\"Accuracy\")\n",
    "plt.legend()\n",
    "plt.show()\n"
   ]
  },
  {
   "cell_type": "code",
   "execution_count": 58,
   "id": "e9237f73",
   "metadata": {},
   "outputs": [
    {
     "name": "stdout",
     "output_type": "stream",
     "text": [
      "3/3 [==============================] - 0s 3ms/step - loss: 1.3454 - accuracy: 0.8718\n",
      "Evalution results (loss,accuracy) for the test data is  [1.345353126525879, 0.8717948794364929]\n",
      "3/3 [==============================] - 0s 2ms/step\n",
      "0.0  <---> RI Propbability:  0.00000\n",
      "0.0  <---> RI Propbability:  0.00000\n",
      "0.0  <---> RI Propbability:  0.00000\n",
      "0.0  <---> RI Propbability:  0.00000\n",
      "0.0  <---> RI Propbability:  0.00025\n",
      "0.0  <---> RI Propbability:  0.00005\n",
      "0.0  <---> RI Propbability:  0.00000\n",
      "0.0  <---> RI Propbability:  0.00224\n",
      "1.0  <---> RI Propbability:  0.00000\n",
      "0.0  <---> RI Propbability:  0.00000\n",
      "0.0  <---> RI Propbability:  0.00000\n",
      "0.0  <---> RI Propbability:  0.00000\n",
      "0.0  <---> RI Propbability:  0.00000\n",
      "0.0  <---> RI Propbability:  0.00022\n",
      "0.0  <---> RI Propbability:  0.00000\n",
      "0.0  <---> RI Propbability:  0.00000\n",
      "0.0  <---> RI Propbability:  0.00018\n",
      "0.0  <---> RI Propbability:  0.00001\n",
      "0.0  <---> RI Propbability:  0.00000\n",
      "1.0  <---> RI Propbability:  0.00000\n",
      "0.0  <---> RI Propbability:  0.00187\n",
      "0.0  <---> RI Propbability:  0.00000\n",
      "0.0  <---> RI Propbability:  0.00000\n",
      "0.0  <---> RI Propbability:  0.00000\n",
      "0.0  <---> RI Propbability:  0.00000\n",
      "0.0  <---> RI Propbability:  0.00000\n",
      "0.0  <---> RI Propbability:  0.00000\n",
      "1.0  <---> RI Propbability:  0.00006\n",
      "0.0  <---> RI Propbability:  0.00000\n",
      "0.0  <---> RI Propbability:  0.00000\n",
      "0.0  <---> RI Propbability:  0.00000\n",
      "0.0  <---> RI Propbability:  0.00001\n",
      "0.0  <---> RI Propbability:  0.00002\n",
      "0.0  <---> RI Propbability:  0.00046\n",
      "1.0  <---> RI Propbability:  0.00131\n",
      "0.0  <---> RI Propbability:  0.00104\n",
      "0.0  <---> RI Propbability:  0.00000\n",
      "0.0  <---> RI Propbability:  0.00001\n",
      "0.0  <---> RI Propbability:  0.00000\n",
      "1.0  <---> RI Propbability:  0.00002\n",
      "0.0  <---> RI Propbability:  0.00000\n",
      "1.0  <---> RI Propbability:  0.00040\n",
      "0.0  <---> RI Propbability:  0.00060\n",
      "0.0  <---> RI Propbability:  0.00000\n",
      "0.0  <---> RI Propbability:  0.00000\n",
      "0.0  <---> RI Propbability:  0.00000\n",
      "0.0  <---> RI Propbability:  0.00000\n",
      "1.0  <---> RI Propbability:  0.00697\n",
      "0.0  <---> RI Propbability:  0.00000\n",
      "0.0  <---> RI Propbability:  0.00004\n",
      "1.0  <---> RI Propbability:  0.00002\n",
      "0.0  <---> RI Propbability:  0.00000\n",
      "0.0  <---> RI Propbability:  0.00000\n",
      "0.0  <---> RI Propbability:  0.00000\n",
      "0.0  <---> RI Propbability:  0.00000\n",
      "0.0  <---> RI Propbability:  0.00000\n",
      "0.0  <---> RI Propbability:  0.00000\n",
      "0.0  <---> RI Propbability:  0.00000\n",
      "0.0  <---> RI Propbability:  0.00000\n",
      "0.0  <---> RI Propbability:  0.00000\n",
      "0.0  <---> RI Propbability:  0.00000\n",
      "0.0  <---> RI Propbability:  0.00003\n",
      "1.0  <---> RI Propbability:  0.00003\n",
      "0.0  <---> RI Propbability:  0.00001\n",
      "1.0  <---> RI Propbability:  0.00001\n",
      "0.0  <---> RI Propbability:  0.00001\n",
      "0.0  <---> RI Propbability:  0.00004\n",
      "0.0  <---> RI Propbability:  0.00000\n",
      "0.0  <---> RI Propbability:  0.00000\n",
      "0.0  <---> RI Propbability:  0.00000\n",
      "0.0  <---> RI Propbability:  0.00000\n",
      "0.0  <---> RI Propbability:  0.00000\n",
      "0.0  <---> RI Propbability:  0.00001\n",
      "0.0  <---> RI Propbability:  0.00010\n",
      "0.0  <---> RI Propbability:  0.00369\n",
      "0.0  <---> RI Propbability:  0.00001\n",
      "0.0  <---> RI Propbability:  0.00001\n",
      "0.0  <---> RI Propbability:  0.00006\n"
     ]
    }
   ],
   "source": [
    "results = model.evaluate(x1_test,y1_test)\n",
    "print(\"Evalution results (loss,accuracy) for the test data is \",results)\n",
    "single_fcst = model.predict(x1_test)\n",
    "for i in range(len(single_fcst)):\n",
    "    print(y1_test[i],\" <---> RI Propbability: \",f\"{float(single_fcst[i]):.5f}\")\n"
   ]
  }
 ],
 "metadata": {
  "kernelspec": {
   "display_name": "Python 3 (ipykernel)",
   "language": "python",
   "name": "python3"
  },
  "language_info": {
   "codemirror_mode": {
    "name": "ipython",
    "version": 3
   },
   "file_extension": ".py",
   "mimetype": "text/x-python",
   "name": "python",
   "nbconvert_exporter": "python",
   "pygments_lexer": "ipython3",
   "version": "3.9.13"
  }
 },
 "nbformat": 4,
 "nbformat_minor": 5
}
